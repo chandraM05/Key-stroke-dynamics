{
 "cells": [
  {
   "cell_type": "code",
   "execution_count": 4,
   "metadata": {
    "collapsed": false
   },
   "outputs": [],
   "source": [
    "# Disable warnings from printing\n",
    "from warnings import filterwarnings\n",
    "filterwarnings('ignore')\n",
    "\n",
    "import numpy as np\n",
    "import pandas as pd\n",
    "\n",
    "from sklearn.metrics import roc_curve\n",
    "from scipy.spatial.distance import cityblock, mahalanobis, euclidean\n",
    "from sknn.mlp import Regressor, Layer"
   ]
  },
  {
   "cell_type": "code",
   "execution_count": 5,
   "metadata": {
    "collapsed": true
   },
   "outputs": [],
   "source": [
    "data = pd.read_csv(\"DSL-StrongPasswordData.csv\")"
   ]
  },
  {
   "cell_type": "code",
   "execution_count": 6,
   "metadata": {
    "collapsed": false
   },
   "outputs": [],
   "source": [
    "# 51 total\n",
    "subjects = data[\"subject\"].unique()"
   ]
  },
  {
   "cell_type": "code",
   "execution_count": 7,
   "metadata": {
    "collapsed": true
   },
   "outputs": [],
   "source": [
    "def evaluateEER(user_scores, imposter_scores):\n",
    "    labels = [0]*len(user_scores) + [1]*len(imposter_scores)\n",
    "    fpr, tpr, thresholds = roc_curve(labels, user_scores + imposter_scores)\n",
    "    missrates = 1 - tpr\n",
    "    farates = fpr\n",
    "    dists = missrates - farates\n",
    "    idx1 = np.argmin(dists[dists >= 0])\n",
    "    idx2 = np.argmax(dists[dists < 0])\n",
    "    x = [missrates[idx1], farates[idx1]]\n",
    "    y = [missrates[idx2], farates[idx2]]\n",
    "    a = ( x[0] - x[1] ) / ( y[1] - x[1] - y[0] + x[0] )\n",
    "    eer = x[0] + a * ( y[0] - x[0] )\n",
    "    return eer"
   ]
  },
  {
   "cell_type": "code",
   "execution_count": 8,
   "metadata": {
    "collapsed": false
   },
   "outputs": [],
   "source": [
    "class NeuralNetAutoAssocDetector:\n",
    "    \n",
    "    def __init__(self, subjects):\n",
    "        self.user_scores = []\n",
    "        self.imposter_scores = []\n",
    "        self.subjects = subjects\n",
    "        self.learning_rate = 0.0001\n",
    "        self.training_epochs = 500\n",
    "        self.n_hidden = 31\n",
    "        self.learning_momentum = 0.0003\n",
    "\n",
    "    def training(self):\n",
    "        self.nn = Regressor(\n",
    "            layers=[\n",
    "                Layer(\"Rectifier\", units=self.n_hidden),\n",
    "                Layer(\"Linear\")\n",
    "                ],\n",
    "                learning_rate=self.learning_rate,\n",
    "                learning_momentum=self.learning_momentum,\n",
    "                n_iter=self.training_epochs\n",
    "        )\n",
    "        self.nn.fit(np.array(self.train), np.array(self.train))\n",
    "        \n",
    "    def testing(self):\n",
    "        preds = self.nn.predict(np.array(self.test_genuine))\n",
    "        for i in range(self.test_genuine.shape[0]):\n",
    "            self.user_scores.append(np.linalg.norm(self.test_genuine.iloc[i].values - preds[i]))\n",
    "            \n",
    "        preds = self.nn.predict(np.array(self.test_imposter))\n",
    "        for i in range(self.test_imposter.shape[0]):\n",
    "            self.imposter_scores.append(np.linalg.norm(self.test_imposter.iloc[i].values - preds[i]))       \n",
    "    \n",
    "    def evaluate(self):\n",
    "        eers = []\n",
    "        \n",
    "        for subject in subjects:\n",
    "            \n",
    "            self.user_scores = []\n",
    "            self.imposter_scores = []\n",
    "    \n",
    "            # Consider current subject as genuine and rest as imposters\n",
    "            genuine_user_data = data.loc[data.subject == subject, \"H.period\":\"H.Return\"]\n",
    "            imposter_data = data.loc[data.subject != subject, :]\n",
    "    \n",
    "            # genuine user's first 200 time vectors for training\n",
    "            self.train = genuine_user_data[:200]\n",
    "    \n",
    "            # True set (200 records)\n",
    "            self.test_genuine = genuine_user_data[200:]\n",
    "    \n",
    "            # False set (250 records, 5 per imposter, 50 imposters in all)\n",
    "            self.test_imposter = imposter_data.groupby(\"subject\").head(5).loc[:, \"H.period\":\"H.Return\"]\n",
    "            \n",
    "            self.training()\n",
    "            \n",
    "            self.testing()\n",
    "    \n",
    "            eers.append(evaluateEER(self.user_scores, self.imposter_scores))\n",
    "        \n",
    "        return np.mean(eers), np.std(eers)        "
   ]
  },
  {
   "cell_type": "code",
   "execution_count": 9,
   "metadata": {
    "collapsed": false
   },
   "outputs": [
    {
     "data": {
      "text/plain": [
       "(0.16417552306737038, 0.091419929898598581)"
      ]
     },
     "execution_count": 9,
     "metadata": {},
     "output_type": "execute_result"
    }
   ],
   "source": [
    "NeuralNetAutoAssocDetector(subjects).evaluate()"
   ]
  }
 ],
 "metadata": {
  "anaconda-cloud": {},
  "kernelspec": {
   "display_name": "Python [Root]",
   "language": "python",
   "name": "Python [Root]"
  },
  "language_info": {
   "codemirror_mode": {
    "name": "ipython",
    "version": 3
   },
   "file_extension": ".py",
   "mimetype": "text/x-python",
   "name": "python",
   "nbconvert_exporter": "python",
   "pygments_lexer": "ipython3",
   "version": "3.5.2"
  }
 },
 "nbformat": 4,
 "nbformat_minor": 0
}
